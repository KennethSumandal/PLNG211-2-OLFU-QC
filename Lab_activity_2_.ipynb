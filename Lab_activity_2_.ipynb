{
  "nbformat": 4,
  "nbformat_minor": 0,
  "metadata": {
    "colab": {
      "provenance": [],
      "authorship_tag": "ABX9TyPxrCbtEegjNKGD9HDXV/t3",
      "include_colab_link": true
    },
    "kernelspec": {
      "name": "python3",
      "display_name": "Python 3"
    },
    "language_info": {
      "name": "python"
    }
  },
  "cells": [
    {
      "cell_type": "markdown",
      "metadata": {
        "id": "view-in-github",
        "colab_type": "text"
      },
      "source": [
        "<a href=\"https://colab.research.google.com/github/KennethSumandal/PLNG211-2-OLFU-QC/blob/main/Lab_activity_2_.ipynb\" target=\"_parent\"><img src=\"https://colab.research.google.com/assets/colab-badge.svg\" alt=\"Open In Colab\"/></a>"
      ]
    },
    {
      "cell_type": "code",
      "source": [
        "n = 20\n",
        "total_numbers = n\n",
        "sum = 0\n",
        "while (n>=0):\n",
        "  sum+=n\n",
        "  n-=1\n",
        "print(\"Sum =\", sum)\n",
        "average = sum / total_numbers\n",
        "print(\"Average =\", average)"
      ],
      "metadata": {
        "colab": {
          "base_uri": "https://localhost:8080/"
        },
        "id": "DQan2OPoy7s-",
        "outputId": "f9607c76-6a6e-4281-91a4-38656473892d"
      },
      "execution_count": 33,
      "outputs": [
        {
          "output_type": "stream",
          "name": "stdout",
          "text": [
            "Sum = 210\n",
            "Average = 10.5\n"
          ]
        }
      ]
    },
    {
      "cell_type": "markdown",
      "source": [
        "![flowchart lab 1.png](data:image/png;base64,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)"
      ],
      "metadata": {
        "id": "cpaNjUrzz9Gb"
      }
    },
    {
      "cell_type": "code",
      "execution_count": 32,
      "metadata": {
        "colab": {
          "base_uri": "https://localhost:8080/"
        },
        "id": "zz5lw9YffpDy",
        "outputId": "8329d039-a614-4ba6-9416-9d10b30d5abf"
      },
      "outputs": [
        {
          "output_type": "stream",
          "name": "stdout",
          "text": [
            "Hello my name is Kenneth Sumandal\n",
            "My student number is 0218-1581-430\n",
            "I am 20 years old\n",
            "I am studying BSCS in Our Lady of Fatima University\n"
          ]
        }
      ],
      "source": [
        "class Student:\n",
        "  def __init__(self, name, stud_num, age, school, course):\n",
        "    self.name = name\n",
        "    self.stud_num = stud_num\n",
        "    self.age = age\n",
        "    self.school = school\n",
        "    self.course = course\n",
        "\n",
        "  def info(self):\n",
        "    print(\"Hello my name is \" + self.name)\n",
        "    print(\"My student number is \" + self.stud_num)\n",
        "    print(\"I am \" + self.age + \" years old\")\n",
        "    print(\"I am studying \" + self.course + \" in \" + self.school)\n",
        "   \n",
        "p1 = Student(\"Kenneth Sumandal\", \"0218-1581-430\", \"20\", \"Our Lady of Fatima University\", \"BSCS\")\n",
        "\n",
        "p1.info()\n"
      ]
    },
    {
      "cell_type": "code",
      "source": [
        "#additional only without init\n",
        "class Student:\n",
        "  name = \"Kenneth Sumandal\"\n",
        "  stud_num = \"0218-1581-430\"\n",
        "  age = \"20\"\n",
        "  school = \"Our Lady of Fatima University\"\n",
        "  course = \"BSCS\"\n",
        "\n",
        "  def info(self):\n",
        "    print(\"Hello my name is \" + self.name)\n",
        "    print(\"My student number is \" + self.stud_num)\n",
        "    print(\"I am \" + self.age + \" years old\")\n",
        "    print(\"I am studying \" + self.course + \" in \" + self.school)\n",
        "p1 = Student()\n",
        "\n",
        "p1.info()\n"
      ],
      "metadata": {
        "colab": {
          "base_uri": "https://localhost:8080/"
        },
        "id": "8IjAoJhdlsZD",
        "outputId": "167d254f-e3a8-48e5-f0d1-df52f7f508be"
      },
      "execution_count": 34,
      "outputs": [
        {
          "output_type": "stream",
          "name": "stdout",
          "text": [
            "Hello my name is Kenneth Sumandal\n",
            "My student number is 0218-1581-430\n",
            "I am 20 years old\n",
            "I am studying BSCS in Our Lady of Fatima University\n"
          ]
        }
      ]
    }
  ]
}
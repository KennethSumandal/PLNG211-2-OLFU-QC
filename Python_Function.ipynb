{
  "nbformat": 4,
  "nbformat_minor": 0,
  "metadata": {
    "colab": {
      "provenance": [],
      "include_colab_link": true
    },
    "kernelspec": {
      "name": "python3",
      "display_name": "Python 3"
    },
    "language_info": {
      "name": "python"
    }
  },
  "cells": [
    {
      "cell_type": "markdown",
      "metadata": {
        "id": "view-in-github",
        "colab_type": "text"
      },
      "source": [
        "<a href=\"https://colab.research.google.com/github/KennethSumandal/PLNG211-2-OLFU-QC/blob/main/Python_Function.ipynb\" target=\"_parent\"><img src=\"https://colab.research.google.com/assets/colab-badge.svg\" alt=\"Open In Colab\"/></a>"
      ]
    },
    {
      "cell_type": "code",
      "execution_count": null,
      "metadata": {
        "colab": {
          "base_uri": "https://localhost:8080/"
        },
        "id": "VaSRYEm6fn1_",
        "outputId": "430adbda-a26a-4265-b0e1-42604783f9c0"
      },
      "outputs": [
        {
          "output_type": "stream",
          "name": "stdout",
          "text": [
            "100\n",
            "Fahrenheit to Celsius 37.78\n"
          ]
        }
      ],
      "source": [
        "#Creating own function\n",
        "\n",
        "def convert_to_celsius(fahrenheit):\n",
        "  return (fahrenheit-32)*5/9   #(100-32) *5/9\n",
        "\n",
        "fahrenheit = int(input())\n",
        "print(\"Fahrenheit to Celsius\",round(convert_to_celsius(fahrenheit),2))"
      ]
    },
    {
      "cell_type": "code",
      "source": [
        "#Create a function that will display three consecutive my_function values\n",
        "\n",
        "def my_function(fname):\n",
        "  print(fname+\"Sayo\")\n",
        "\n",
        "my_function(\"Maria\")\n",
        "my_function(\"Mam\")"
      ],
      "metadata": {
        "colab": {
          "base_uri": "https://localhost:8080/"
        },
        "id": "-mbGPFGnherU",
        "outputId": "79512831-bcc0-4ade-9fde-be36428ff5b2"
      },
      "execution_count": null,
      "outputs": [
        {
          "output_type": "stream",
          "name": "stdout",
          "text": [
            "MariaSayo\n",
            "MamSayo\n"
          ]
        }
      ]
    },
    {
      "cell_type": "code",
      "source": [
        "#Create an arithmetic function\n",
        "\n",
        "def myfunction(x):\n",
        "  return 5+x\n",
        "\n",
        "print(myfunction(3))\n",
        "print(myfunction(4))\n",
        "print(myfunction(5))"
      ],
      "metadata": {
        "colab": {
          "base_uri": "https://localhost:8080/"
        },
        "id": "MEpe-e6Oiixq",
        "outputId": "b6ed8ba1-405b-402f-b83b-4c336d8e2e85"
      },
      "execution_count": null,
      "outputs": [
        {
          "output_type": "stream",
          "name": "stdout",
          "text": [
            "8\n",
            "9\n",
            "10\n"
          ]
        }
      ]
    },
    {
      "cell_type": "code",
      "source": [
        "#Exercise 1\n",
        "def fun(element):\n",
        "    return(len(element))\n",
        " \n",
        "a =[2, 3 , 4]\n",
        "print(min(a))\n",
        "b =[2, -3, 4, 7, -5]\n",
        "print(max(b))\n",
        "c =[2, -3, min (4,7), 5]\n",
        "print (max(c))"
      ],
      "metadata": {
        "id": "e9lsYDnlmF-g",
        "outputId": "c84032e4-7a3d-4411-d5be-a05c780091db",
        "colab": {
          "base_uri": "https://localhost:8080/"
        }
      },
      "execution_count": 17,
      "outputs": [
        {
          "output_type": "stream",
          "name": "stdout",
          "text": [
            "2\n",
            "7\n",
            "5\n"
          ]
        }
      ]
    },
    {
      "cell_type": "code",
      "source": [
        "#Exercise 2\n",
        "def sum (a, b, c):\n",
        "  return a+b+c\n",
        "\n",
        "a = int(input())\n",
        "b = int(input())\n",
        "c = int(input())\n",
        "\n",
        "print(\"The sum is\", sum(a,b,c))\n",
        "\n",
        "def average(num):\n",
        "    sum_num = 0\n",
        "    for t in num:\n",
        "        sum_num = sum_num + t           \n",
        "\n",
        "    avg = sum_num / len(num)\n",
        "    return avg\n",
        "\n",
        "print(\"The average is\", average([a, b, c]))\n",
        "\n",
        "def sum_thrice(x, y, z):\n",
        "\n",
        "     sum = x + y + z\n",
        "  \n",
        "     sum = sum ** 2\n",
        "     return sum\n",
        "print(sum_thrice(a,b,c))"
      ],
      "metadata": {
        "id": "0FKzFcPomHuV",
        "outputId": "13fcf181-4a7b-4a31-9381-ef9de9fa09ea",
        "colab": {
          "base_uri": "https://localhost:8080/"
        }
      },
      "execution_count": 45,
      "outputs": [
        {
          "output_type": "stream",
          "name": "stdout",
          "text": [
            "5\n",
            "6\n",
            "5\n",
            "The sum is 16\n",
            "The average is 5.333333333333333\n",
            "256\n"
          ]
        }
      ]
    },
    {
      "cell_type": "code",
      "source": [
        "#Application \n",
        "#Create formula of area of different shapes\n",
        "\n",
        "def rectangle(l,w):\n",
        "  return l*w\n",
        "\n",
        "l= int(input())\n",
        "w= int(input())\n",
        "\n",
        "def square(s):\n",
        "  return pow(s,2)\n",
        "\n",
        "\n",
        "\n",
        "print(rectangle(l,w))\n"
      ],
      "metadata": {
        "colab": {
          "base_uri": "https://localhost:8080/"
        },
        "id": "Gvzr_5r7mL1O",
        "outputId": "4ba2fbe7-0348-4b3a-bcec-edf247fbbeb2"
      },
      "execution_count": null,
      "outputs": [
        {
          "output_type": "stream",
          "name": "stdout",
          "text": [
            "5\n",
            "3\n",
            "15\n"
          ]
        }
      ]
    }
  ]
}
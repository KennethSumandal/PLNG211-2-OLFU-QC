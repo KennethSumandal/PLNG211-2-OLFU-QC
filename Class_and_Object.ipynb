{
  "nbformat": 4,
  "nbformat_minor": 0,
  "metadata": {
    "colab": {
      "provenance": [],
      "include_colab_link": true
    },
    "kernelspec": {
      "name": "python3",
      "display_name": "Python 3"
    },
    "language_info": {
      "name": "python"
    }
  },
  "cells": [
    {
      "cell_type": "markdown",
      "metadata": {
        "id": "view-in-github",
        "colab_type": "text"
      },
      "source": [
        "<a href=\"https://colab.research.google.com/github/KennethSumandal/PLNG211-2-OLFU-QC/blob/main/Class_and_Object.ipynb\" target=\"_parent\"><img src=\"https://colab.research.google.com/assets/colab-badge.svg\" alt=\"Open In Colab\"/></a>"
      ]
    },
    {
      "cell_type": "code",
      "execution_count": null,
      "metadata": {
        "id": "GRFteNFnmxYR"
      },
      "outputs": [],
      "source": [
        "class Person:\n",
        "  pass"
      ]
    },
    {
      "cell_type": "code",
      "source": [
        "class Person:\n",
        "  def __init__(self,sides):\n",
        "    self.sides = sides\n",
        "    #self.age = age\n",
        "    #self.address = address\n",
        "  def Area(self,sides):\n",
        "    print(self.sides*self.sides)\n",
        "    #print(\"I am\",self.age)\n",
        "    #print(\"I live in\",self.address)\n",
        "\n",
        "class Student(Person):\n",
        "  pass\n",
        "\n",
        "class Teacher(Person):\n",
        "  pass\n",
        "\n",
        "p1 = Person(\"Maria\",20,\"QC\")\n",
        "p1.myFunction()\n",
        "\n",
        "p2 = Student(\"Ana\", 26, \"Manila\")\n",
        "p2.myFunction()\n",
        "\n",
        "p3 = Teacher(\"Mam\", 30, \"Valenzuela City\")\n",
        "p3.myFunction()\n",
        "\n"
      ],
      "metadata": {
        "colab": {
          "base_uri": "https://localhost:8080/"
        },
        "id": "0cqhtw1dnFeX",
        "outputId": "bd1e402c-03e8-40f2-9757-b8d977ccf0d1"
      },
      "execution_count": null,
      "outputs": [
        {
          "output_type": "stream",
          "name": "stdout",
          "text": [
            "Hello! My name is Maria\n",
            "I am 20\n",
            "I live in QC\n",
            "Hello! My name is Ana\n",
            "I am 26\n",
            "I live in Manila\n",
            "Hello! My name is Mam\n",
            "I am 30\n",
            "I live in Valenzuela City\n"
          ]
        }
      ]
    },
    {
      "cell_type": "code",
      "source": [
        "#Modify an Object Property \n",
        "\n",
        "p1.age = 25\n",
        "p1.myFunction()"
      ],
      "metadata": {
        "colab": {
          "base_uri": "https://localhost:8080/"
        },
        "id": "OStnqnIrqASP",
        "outputId": "0420cd05-912f-46b7-f199-d108038d87b7"
      },
      "execution_count": null,
      "outputs": [
        {
          "output_type": "stream",
          "name": "stdout",
          "text": [
            "Hello! My name is Maria\n",
            "I am 25\n",
            "I live in QC\n"
          ]
        }
      ]
    },
    {
      "cell_type": "code",
      "source": [
        "#Delete an Object Property\n",
        "print(p2.name)\n",
        "#del p2\n",
        "p2.myFunction\n",
        "\n"
      ],
      "metadata": {
        "colab": {
          "base_uri": "https://localhost:8080/",
          "height": 235
        },
        "id": "kJp_jna0rmIa",
        "outputId": "34d02031-1692-4415-e9c0-4d5042830a2b"
      },
      "execution_count": 4,
      "outputs": [
        {
          "output_type": "error",
          "ename": "NameError",
          "evalue": "ignored",
          "traceback": [
            "\u001b[0;31m---------------------------------------------------------------------------\u001b[0m",
            "\u001b[0;31mNameError\u001b[0m                                 Traceback (most recent call last)",
            "\u001b[0;32m<ipython-input-4-45866e627d30>\u001b[0m in \u001b[0;36m<module>\u001b[0;34m\u001b[0m\n\u001b[1;32m      1\u001b[0m \u001b[0;31m#Delete an Object Property\u001b[0m\u001b[0;34m\u001b[0m\u001b[0;34m\u001b[0m\u001b[0;34m\u001b[0m\u001b[0m\n\u001b[0;32m----> 2\u001b[0;31m \u001b[0mprint\u001b[0m\u001b[0;34m(\u001b[0m\u001b[0mp2\u001b[0m\u001b[0;34m.\u001b[0m\u001b[0mname\u001b[0m\u001b[0;34m)\u001b[0m\u001b[0;34m\u001b[0m\u001b[0;34m\u001b[0m\u001b[0m\n\u001b[0m\u001b[1;32m      3\u001b[0m \u001b[0;31m#del p2\u001b[0m\u001b[0;34m\u001b[0m\u001b[0;34m\u001b[0m\u001b[0;34m\u001b[0m\u001b[0m\n\u001b[1;32m      4\u001b[0m \u001b[0mp2\u001b[0m\u001b[0;34m.\u001b[0m\u001b[0mmyFunction\u001b[0m\u001b[0;34m\u001b[0m\u001b[0;34m\u001b[0m\u001b[0m\n\u001b[1;32m      5\u001b[0m \u001b[0;34m\u001b[0m\u001b[0m\n",
            "\u001b[0;31mNameError\u001b[0m: name 'p2' is not defined"
          ]
        }
      ]
    },
    {
      "cell_type": "code",
      "source": [
        "#Application 1 - Write a Python program that computes the area and perimeter of a Square\n",
        "#Use Square as class name\n",
        "#Use sides as attributes\n",
        "#Create methods Area() and Perimeter() \n",
        "class Square:\n",
        "  pass\n",
        "  def __init__(side,size,per):\n",
        "    side.size = pow(size, 2)\n",
        "    side.per = per*4\n",
        "  def Area(side):\n",
        "    print(\"The area of Square\",side.size)\n",
        "    \n",
        "  def Perimeter(side):\n",
        "    print(\"The Perimeter of Square\",side.per)\n",
        "\n",
        "p1 = Square(5,2)\n",
        "p1.Area()\n",
        "p1.Perimeter()"
      ],
      "metadata": {
        "id": "QuMWPtDQsuC_",
        "outputId": "6f2f77bd-4dc5-4562-f1c4-e578140eccda",
        "colab": {
          "base_uri": "https://localhost:8080/"
        }
      },
      "execution_count": 5,
      "outputs": [
        {
          "output_type": "stream",
          "name": "stdout",
          "text": [
            "The area of Square 25\n",
            "The Perimeter of Square 8\n"
          ]
        }
      ]
    }
  ]
}
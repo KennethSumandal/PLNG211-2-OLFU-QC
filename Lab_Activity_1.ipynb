{
  "nbformat": 4,
  "nbformat_minor": 0,
  "metadata": {
    "colab": {
      "provenance": [],
      "authorship_tag": "ABX9TyOCHsQR3rP+7F0zGA0Ji93H",
      "include_colab_link": true
    },
    "kernelspec": {
      "name": "python3",
      "display_name": "Python 3"
    },
    "language_info": {
      "name": "python"
    }
  },
  "cells": [
    {
      "cell_type": "markdown",
      "metadata": {
        "id": "view-in-github",
        "colab_type": "text"
      },
      "source": [
        "<a href=\"https://colab.research.google.com/github/KennethSumandal/PLNG211-2-OLFU-QC/blob/main/Lab_Activity_1.ipynb\" target=\"_parent\"><img src=\"https://colab.research.google.com/assets/colab-badge.svg\" alt=\"Open In Colab\"/></a>"
      ]
    },
    {
      "cell_type": "code",
      "execution_count": 2,
      "metadata": {
        "colab": {
          "base_uri": "https://localhost:8080/"
        },
        "id": "_AMiDBM_X6QV",
        "outputId": "6c2f7a28-3ec7-4c33-b554-1369ac5b1f71"
      },
      "outputs": [
        {
          "output_type": "stream",
          "name": "stdout",
          "text": [
            "1\n",
            "2\n",
            "3\n",
            "4\n",
            "5\n",
            "6\n",
            "7\n",
            "8\n",
            "9\n",
            "10\n",
            "55\n"
          ]
        }
      ],
      "source": [
        "def sumOfArr(a):\n",
        "    sum=0\n",
        "    for i in a:\n",
        "        sum += i\n",
        "    return sum\n",
        "a = [1,2,3,4,5,6,7,8,9,10]\n",
        "for x in a:\n",
        "  print(x)\n",
        "res=sumOfArr(a)\n",
        "print(res)"
      ]
    },
    {
      "cell_type": "code",
      "source": [
        "num = [1,2,3,4,5,6,7,8,9,10]\n",
        "num.append(11)\n",
        "print(num)"
      ],
      "metadata": {
        "colab": {
          "base_uri": "https://localhost:8080/"
        },
        "id": "0qbXT6q-ZWIi",
        "outputId": "3ffaf199-5eef-420a-92b6-2b619f9f9c0b"
      },
      "execution_count": 10,
      "outputs": [
        {
          "output_type": "stream",
          "name": "stdout",
          "text": [
            "[1, 2, 3, 4, 5, 6, 7, 8, 9, 10, 11]\n"
          ]
        }
      ]
    },
    {
      "cell_type": "code",
      "source": [
        "numbers = [1,2,3,4,5,6,7,8,9,10]\n",
        "print(f'Current Numbers List {numbers}')\n",
        "num = int(input(\"Please enter a number to be added:\\n\"))\n",
        "index = int(input(f'Enter the index between 0 and {len(numbers)-1} to add the given number\\n'))\n",
        "numbers.insert(index, num)\n",
        "print(f'Updated list {numbers}')"
      ],
      "metadata": {
        "colab": {
          "base_uri": "https://localhost:8080/"
        },
        "id": "EhX4b5s-a1Ym",
        "outputId": "44c8d88c-f273-4af3-a1b4-6d50bcae8571"
      },
      "execution_count": 20,
      "outputs": [
        {
          "output_type": "stream",
          "name": "stdout",
          "text": [
            "Current Numbers List [1, 2, 3, 4, 5, 6, 7, 8, 9, 10]\n",
            "Please enter a number to be added:\n",
            "11\n",
            "Enter the index between 0 and 9 to add the given number\n",
            "1\n",
            "Updated list [1, 11, 2, 3, 4, 5, 6, 7, 8, 9, 10]\n"
          ]
        }
      ]
    },
    {
      "cell_type": "code",
      "source": [
        " numbers = [5,4,3,2,1]\n",
        " print(f'Array is {numbers}')\n",
        " res = numbers[::-1]\n",
        " print(f'Reversed Array: {res}')"
      ],
      "metadata": {
        "colab": {
          "base_uri": "https://localhost:8080/"
        },
        "id": "2sLMH2FEbQi0",
        "outputId": "14e4dba1-4d29-4c79-c9ee-fc9efc9e3a79"
      },
      "execution_count": 21,
      "outputs": [
        {
          "output_type": "stream",
          "name": "stdout",
          "text": [
            "Array is [5, 4, 3, 2, 1]\n",
            "Reversed Array: [1, 2, 3, 4, 5]\n"
          ]
        }
      ]
    },
    {
      "cell_type": "code",
      "source": [
        "numbers = [5,4,3,2,1]\n",
        "x = len(numbers)\n",
        "print(x)"
      ],
      "metadata": {
        "colab": {
          "base_uri": "https://localhost:8080/"
        },
        "id": "cLc3X6cxdupp",
        "outputId": "48fe0106-d6d1-4958-9008-59a5ea9508a1"
      },
      "execution_count": 26,
      "outputs": [
        {
          "output_type": "stream",
          "name": "stdout",
          "text": [
            "5\n"
          ]
        }
      ]
    }
  ]
}
{
  "nbformat": 4,
  "nbformat_minor": 0,
  "metadata": {
    "colab": {
      "provenance": [],
      "include_colab_link": true
    },
    "kernelspec": {
      "name": "python3",
      "display_name": "Python 3"
    },
    "language_info": {
      "name": "python"
    }
  },
  "cells": [
    {
      "cell_type": "markdown",
      "metadata": {
        "id": "view-in-github",
        "colab_type": "text"
      },
      "source": [
        "<a href=\"https://colab.research.google.com/github/KennethSumandal/PLNG211-2-OLFU-QC/blob/main/Arrays.ipynb\" target=\"_parent\"><img src=\"https://colab.research.google.com/assets/colab-badge.svg\" alt=\"Open In Colab\"/></a>"
      ]
    },
    {
      "cell_type": "code",
      "execution_count": 3,
      "metadata": {
        "colab": {
          "base_uri": "https://localhost:8080/"
        },
        "id": "kL7fLlknQ4PG",
        "outputId": "4001f320-1dad-42b1-8af6-e904359a9f13"
      },
      "outputs": [
        {
          "output_type": "stream",
          "name": "stdout",
          "text": [
            "The list of animals in an array are: ['cat', 'dog', 'fish']\n",
            "The animal in animals[0] is: cat\n",
            "cat\n",
            "dog\n",
            "fish\n"
          ]
        }
      ],
      "source": [
        "#Accessing the Elements in the Array\n",
        "animals = ['cat','dog','fish']\n",
        "x = animals[0]\n",
        "print(\"The list of animals in an array are:\",animals)\n",
        "print(\"The animal in animals[0] is:\",x)\n",
        "for y in animals:\n",
        "  print(y)"
      ]
    },
    {
      "cell_type": "code",
      "source": [
        "#Modifying Elements in the Array\n",
        "animals = ['cat','dog','fish']\n",
        "animals[1] = 'monkey'\n",
        "print(animals)"
      ],
      "metadata": {
        "colab": {
          "base_uri": "https://localhost:8080/"
        },
        "id": "SaXseDHkS33e",
        "outputId": "e45e205d-f39c-43fd-e7b6-e196b4259b97"
      },
      "execution_count": null,
      "outputs": [
        {
          "output_type": "stream",
          "name": "stdout",
          "text": [
            "['cat', 'monkey', 'fish']\n"
          ]
        }
      ]
    },
    {
      "cell_type": "code",
      "source": [
        "#Length of the Array\n",
        "animals = ['cat','dog','fish']\n",
        "x = len(animals)\n",
        "print(x)"
      ],
      "metadata": {
        "colab": {
          "base_uri": "https://localhost:8080/"
        },
        "id": "fYi_t9UVTaKb",
        "outputId": "be66d1ee-2e96-43b8-e828-4f170dad46cb"
      },
      "execution_count": null,
      "outputs": [
        {
          "output_type": "stream",
          "name": "stdout",
          "text": [
            "3\n"
          ]
        }
      ]
    },
    {
      "cell_type": "code",
      "source": [
        "#Looping Array Elements\n",
        "verbs = [\"jumping\",\"eating\",\"swimming\"]\n",
        "animals = ['cat','dog','fish']\n",
        "for k in verbs:\n",
        "  for j in animals:\n",
        "    print(k,j)"
      ],
      "metadata": {
        "colab": {
          "base_uri": "https://localhost:8080/"
        },
        "id": "I2dat2yCToYY",
        "outputId": "2af2f9c8-1a9a-49bd-f315-1ec6feba020c"
      },
      "execution_count": null,
      "outputs": [
        {
          "output_type": "stream",
          "name": "stdout",
          "text": [
            "jumping cat\n",
            "jumping dog\n",
            "jumping fish\n",
            "eating cat\n",
            "eating dog\n",
            "eating fish\n",
            "swimming cat\n",
            "swimming dog\n",
            "swimming fish\n"
          ]
        }
      ]
    },
    {
      "cell_type": "code",
      "source": [
        "#Append the Element in the Array\n",
        "\n",
        "animals = ['cat','dog','fish']\n",
        "animals.append('monkey')\n",
        "print(animals)"
      ],
      "metadata": {
        "colab": {
          "base_uri": "https://localhost:8080/"
        },
        "id": "4UCRg0CdVeRZ",
        "outputId": "57809009-0400-458e-89a3-363933fb2eb1"
      },
      "execution_count": 1,
      "outputs": [
        {
          "output_type": "stream",
          "name": "stdout",
          "text": [
            "['cat', 'dog', 'fish', 'monkey']\n"
          ]
        }
      ]
    },
    {
      "cell_type": "code",
      "source": [
        "#Insert an Element in the Array\n",
        "animals = ['cat','dog','fish']\n",
        "animals.insert(0,'bird')\n",
        "print(animals)"
      ],
      "metadata": {
        "colab": {
          "base_uri": "https://localhost:8080/"
        },
        "id": "6oo1-sqYVt9M",
        "outputId": "8a1fb676-c3a1-4406-ee10-333f3a931da8"
      },
      "execution_count": null,
      "outputs": [
        {
          "output_type": "stream",
          "name": "stdout",
          "text": [
            "['bird', 'cat', 'dog', 'fish']\n"
          ]
        }
      ]
    },
    {
      "cell_type": "code",
      "source": [
        "#Remove an element in the Array list\n",
        "animals.pop(1)\n",
        "print(animals)"
      ],
      "metadata": {
        "colab": {
          "base_uri": "https://localhost:8080/"
        },
        "id": "qrVnSNcyWL7o",
        "outputId": "24b164b9-b6d5-4c69-da93-0fcad30de79e"
      },
      "execution_count": null,
      "outputs": [
        {
          "output_type": "stream",
          "name": "stdout",
          "text": [
            "['bird', 'dog', 'fish']\n"
          ]
        }
      ]
    },
    {
      "cell_type": "code",
      "source": [
        "#Array module in Python"
      ],
      "metadata": {
        "id": "vBe-RQ_CWgWA"
      },
      "execution_count": null,
      "outputs": []
    }
  ]
}